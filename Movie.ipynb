{
  "nbformat": 4,
  "nbformat_minor": 0,
  "metadata": {
    "colab": {
      "provenance": []
    },
    "kernelspec": {
      "name": "python3",
      "display_name": "Python 3"
    },
    "language_info": {
      "name": "python"
    }
  },
  "cells": [
    {
      "cell_type": "code",
      "execution_count": null,
      "metadata": {
        "colab": {
          "base_uri": "https://localhost:8080/",
          "height": 206
        },
        "id": "HWwnNqfdrZa4",
        "outputId": "3d3c5ba1-8c54-482c-893d-bffeaefe7ec9"
      },
      "outputs": [
        {
          "output_type": "display_data",
          "data": {
            "text/plain": [
              "                                                   0  1\n",
              "0  I did not enjoy the film Eraser whatsoever. It...  0\n",
              "1  Be very afraid of anyone who likes this film. ...  0\n",
              "2  The 3rd and last big screen spin off from the ...  0\n",
              "3  Barely three and a half years after just scrap...  1\n",
              "4  I'm a big fan of the demonic puppets. Looking ...  0"
            ],
            "text/html": [
              "\n",
              "  <div id=\"df-f664b6dd-b559-4f93-bf54-2d5db35ffd54\" class=\"colab-df-container\">\n",
              "    <div>\n",
              "<style scoped>\n",
              "    .dataframe tbody tr th:only-of-type {\n",
              "        vertical-align: middle;\n",
              "    }\n",
              "\n",
              "    .dataframe tbody tr th {\n",
              "        vertical-align: top;\n",
              "    }\n",
              "\n",
              "    .dataframe thead th {\n",
              "        text-align: right;\n",
              "    }\n",
              "</style>\n",
              "<table border=\"1\" class=\"dataframe\">\n",
              "  <thead>\n",
              "    <tr style=\"text-align: right;\">\n",
              "      <th></th>\n",
              "      <th>0</th>\n",
              "      <th>1</th>\n",
              "    </tr>\n",
              "  </thead>\n",
              "  <tbody>\n",
              "    <tr>\n",
              "      <th>0</th>\n",
              "      <td>I did not enjoy the film Eraser whatsoever. It...</td>\n",
              "      <td>0</td>\n",
              "    </tr>\n",
              "    <tr>\n",
              "      <th>1</th>\n",
              "      <td>Be very afraid of anyone who likes this film. ...</td>\n",
              "      <td>0</td>\n",
              "    </tr>\n",
              "    <tr>\n",
              "      <th>2</th>\n",
              "      <td>The 3rd and last big screen spin off from the ...</td>\n",
              "      <td>0</td>\n",
              "    </tr>\n",
              "    <tr>\n",
              "      <th>3</th>\n",
              "      <td>Barely three and a half years after just scrap...</td>\n",
              "      <td>1</td>\n",
              "    </tr>\n",
              "    <tr>\n",
              "      <th>4</th>\n",
              "      <td>I'm a big fan of the demonic puppets. Looking ...</td>\n",
              "      <td>0</td>\n",
              "    </tr>\n",
              "  </tbody>\n",
              "</table>\n",
              "</div>\n",
              "    <div class=\"colab-df-buttons\">\n",
              "\n",
              "  <div class=\"colab-df-container\">\n",
              "    <button class=\"colab-df-convert\" onclick=\"convertToInteractive('df-f664b6dd-b559-4f93-bf54-2d5db35ffd54')\"\n",
              "            title=\"Convert this dataframe to an interactive table.\"\n",
              "            style=\"display:none;\">\n",
              "\n",
              "  <svg xmlns=\"http://www.w3.org/2000/svg\" height=\"24px\" viewBox=\"0 -960 960 960\">\n",
              "    <path d=\"M120-120v-720h720v720H120Zm60-500h600v-160H180v160Zm220 220h160v-160H400v160Zm0 220h160v-160H400v160ZM180-400h160v-160H180v160Zm440 0h160v-160H620v160ZM180-180h160v-160H180v160Zm440 0h160v-160H620v160Z\"/>\n",
              "  </svg>\n",
              "    </button>\n",
              "\n",
              "  <style>\n",
              "    .colab-df-container {\n",
              "      display:flex;\n",
              "      gap: 12px;\n",
              "    }\n",
              "\n",
              "    .colab-df-convert {\n",
              "      background-color: #E8F0FE;\n",
              "      border: none;\n",
              "      border-radius: 50%;\n",
              "      cursor: pointer;\n",
              "      display: none;\n",
              "      fill: #1967D2;\n",
              "      height: 32px;\n",
              "      padding: 0 0 0 0;\n",
              "      width: 32px;\n",
              "    }\n",
              "\n",
              "    .colab-df-convert:hover {\n",
              "      background-color: #E2EBFA;\n",
              "      box-shadow: 0px 1px 2px rgba(60, 64, 67, 0.3), 0px 1px 3px 1px rgba(60, 64, 67, 0.15);\n",
              "      fill: #174EA6;\n",
              "    }\n",
              "\n",
              "    .colab-df-buttons div {\n",
              "      margin-bottom: 4px;\n",
              "    }\n",
              "\n",
              "    [theme=dark] .colab-df-convert {\n",
              "      background-color: #3B4455;\n",
              "      fill: #D2E3FC;\n",
              "    }\n",
              "\n",
              "    [theme=dark] .colab-df-convert:hover {\n",
              "      background-color: #434B5C;\n",
              "      box-shadow: 0px 1px 3px 1px rgba(0, 0, 0, 0.15);\n",
              "      filter: drop-shadow(0px 1px 2px rgba(0, 0, 0, 0.3));\n",
              "      fill: #FFFFFF;\n",
              "    }\n",
              "  </style>\n",
              "\n",
              "    <script>\n",
              "      const buttonEl =\n",
              "        document.querySelector('#df-f664b6dd-b559-4f93-bf54-2d5db35ffd54 button.colab-df-convert');\n",
              "      buttonEl.style.display =\n",
              "        google.colab.kernel.accessAllowed ? 'block' : 'none';\n",
              "\n",
              "      async function convertToInteractive(key) {\n",
              "        const element = document.querySelector('#df-f664b6dd-b559-4f93-bf54-2d5db35ffd54');\n",
              "        const dataTable =\n",
              "          await google.colab.kernel.invokeFunction('convertToInteractive',\n",
              "                                                    [key], {});\n",
              "        if (!dataTable) return;\n",
              "\n",
              "        const docLinkHtml = 'Like what you see? Visit the ' +\n",
              "          '<a target=\"_blank\" href=https://colab.research.google.com/notebooks/data_table.ipynb>data table notebook</a>'\n",
              "          + ' to learn more about interactive tables.';\n",
              "        element.innerHTML = '';\n",
              "        dataTable['output_type'] = 'display_data';\n",
              "        await google.colab.output.renderOutput(dataTable, element);\n",
              "        const docLink = document.createElement('div');\n",
              "        docLink.innerHTML = docLinkHtml;\n",
              "        element.appendChild(docLink);\n",
              "      }\n",
              "    </script>\n",
              "  </div>\n",
              "\n",
              "\n",
              "    <div id=\"df-47d7b003-b4c0-414f-afb0-3a6c76c5a4cf\">\n",
              "      <button class=\"colab-df-quickchart\" onclick=\"quickchart('df-47d7b003-b4c0-414f-afb0-3a6c76c5a4cf')\"\n",
              "                title=\"Suggest charts\"\n",
              "                style=\"display:none;\">\n",
              "\n",
              "<svg xmlns=\"http://www.w3.org/2000/svg\" height=\"24px\"viewBox=\"0 0 24 24\"\n",
              "     width=\"24px\">\n",
              "    <g>\n",
              "        <path d=\"M19 3H5c-1.1 0-2 .9-2 2v14c0 1.1.9 2 2 2h14c1.1 0 2-.9 2-2V5c0-1.1-.9-2-2-2zM9 17H7v-7h2v7zm4 0h-2V7h2v10zm4 0h-2v-4h2v4z\"/>\n",
              "    </g>\n",
              "</svg>\n",
              "      </button>\n",
              "\n",
              "<style>\n",
              "  .colab-df-quickchart {\n",
              "      --bg-color: #E8F0FE;\n",
              "      --fill-color: #1967D2;\n",
              "      --hover-bg-color: #E2EBFA;\n",
              "      --hover-fill-color: #174EA6;\n",
              "      --disabled-fill-color: #AAA;\n",
              "      --disabled-bg-color: #DDD;\n",
              "  }\n",
              "\n",
              "  [theme=dark] .colab-df-quickchart {\n",
              "      --bg-color: #3B4455;\n",
              "      --fill-color: #D2E3FC;\n",
              "      --hover-bg-color: #434B5C;\n",
              "      --hover-fill-color: #FFFFFF;\n",
              "      --disabled-bg-color: #3B4455;\n",
              "      --disabled-fill-color: #666;\n",
              "  }\n",
              "\n",
              "  .colab-df-quickchart {\n",
              "    background-color: var(--bg-color);\n",
              "    border: none;\n",
              "    border-radius: 50%;\n",
              "    cursor: pointer;\n",
              "    display: none;\n",
              "    fill: var(--fill-color);\n",
              "    height: 32px;\n",
              "    padding: 0;\n",
              "    width: 32px;\n",
              "  }\n",
              "\n",
              "  .colab-df-quickchart:hover {\n",
              "    background-color: var(--hover-bg-color);\n",
              "    box-shadow: 0 1px 2px rgba(60, 64, 67, 0.3), 0 1px 3px 1px rgba(60, 64, 67, 0.15);\n",
              "    fill: var(--button-hover-fill-color);\n",
              "  }\n",
              "\n",
              "  .colab-df-quickchart-complete:disabled,\n",
              "  .colab-df-quickchart-complete:disabled:hover {\n",
              "    background-color: var(--disabled-bg-color);\n",
              "    fill: var(--disabled-fill-color);\n",
              "    box-shadow: none;\n",
              "  }\n",
              "\n",
              "  .colab-df-spinner {\n",
              "    border: 2px solid var(--fill-color);\n",
              "    border-color: transparent;\n",
              "    border-bottom-color: var(--fill-color);\n",
              "    animation:\n",
              "      spin 1s steps(1) infinite;\n",
              "  }\n",
              "\n",
              "  @keyframes spin {\n",
              "    0% {\n",
              "      border-color: transparent;\n",
              "      border-bottom-color: var(--fill-color);\n",
              "      border-left-color: var(--fill-color);\n",
              "    }\n",
              "    20% {\n",
              "      border-color: transparent;\n",
              "      border-left-color: var(--fill-color);\n",
              "      border-top-color: var(--fill-color);\n",
              "    }\n",
              "    30% {\n",
              "      border-color: transparent;\n",
              "      border-left-color: var(--fill-color);\n",
              "      border-top-color: var(--fill-color);\n",
              "      border-right-color: var(--fill-color);\n",
              "    }\n",
              "    40% {\n",
              "      border-color: transparent;\n",
              "      border-right-color: var(--fill-color);\n",
              "      border-top-color: var(--fill-color);\n",
              "    }\n",
              "    60% {\n",
              "      border-color: transparent;\n",
              "      border-right-color: var(--fill-color);\n",
              "    }\n",
              "    80% {\n",
              "      border-color: transparent;\n",
              "      border-right-color: var(--fill-color);\n",
              "      border-bottom-color: var(--fill-color);\n",
              "    }\n",
              "    90% {\n",
              "      border-color: transparent;\n",
              "      border-bottom-color: var(--fill-color);\n",
              "    }\n",
              "  }\n",
              "</style>\n",
              "\n",
              "      <script>\n",
              "        async function quickchart(key) {\n",
              "          const quickchartButtonEl =\n",
              "            document.querySelector('#' + key + ' button');\n",
              "          quickchartButtonEl.disabled = true;  // To prevent multiple clicks.\n",
              "          quickchartButtonEl.classList.add('colab-df-spinner');\n",
              "          try {\n",
              "            const charts = await google.colab.kernel.invokeFunction(\n",
              "                'suggestCharts', [key], {});\n",
              "          } catch (error) {\n",
              "            console.error('Error during call to suggestCharts:', error);\n",
              "          }\n",
              "          quickchartButtonEl.classList.remove('colab-df-spinner');\n",
              "          quickchartButtonEl.classList.add('colab-df-quickchart-complete');\n",
              "        }\n",
              "        (() => {\n",
              "          let quickchartButtonEl =\n",
              "            document.querySelector('#df-47d7b003-b4c0-414f-afb0-3a6c76c5a4cf button');\n",
              "          quickchartButtonEl.style.display =\n",
              "            google.colab.kernel.accessAllowed ? 'block' : 'none';\n",
              "        })();\n",
              "      </script>\n",
              "    </div>\n",
              "\n",
              "    </div>\n",
              "  </div>\n"
            ],
            "application/vnd.google.colaboratory.intrinsic+json": {
              "type": "dataframe",
              "summary": "{\n  \"name\": \"display(df\",\n  \"rows\": 5,\n  \"fields\": [\n    {\n      \"column\": \"0\",\n      \"properties\": {\n        \"dtype\": \"string\",\n        \"num_unique_values\": 5,\n        \"samples\": [\n          \"Be very afraid of anyone who likes this film. They probably inhaled too many paint chips as a child. Its so awful I refuse to relive a plot. O yeah, there wasn't one! This movie is a true definition of what Hollywood creates for people who don't want to think at a theatre. Do the bad guys win? Do the good guys win? Who cares!\",\n          \"I'm a big fan of the demonic puppets. Looking at the surface of this one, it looks pretty good! You've got Decapitron, the puppets, and a new villain in THE TOTEM! Unfortunately, the little punk that's doing this project to animate, inanimate objects, can't act. He stinks! His girlfriend is worse. If they were left out, it would probably be cool, BLADE VS. THE TOTEM. I'd watch that for 2 hours. But instead, the puppets role is down played, and the whole movie suffered because of it. The mystical Skull guy who created the totem is corny at best, and Decapitrons appearance is long awaited, short, and really quite disappointing. You'd be better off watching the first one again.\",\n          \"The 3rd and last big screen spin off from the very popular ITV sitcom of the early 1970's,HOLIDAY ON THE BUSES is every bit as resistible and crude as the previous two efforts,and observing from a standpoint three and a half decades later,it is truly mind boggling that even one film was produced in this franchise.<br /><br />What constitutes the plot surrounds the adventures of Stan Butler (Reg Varney),his conductor Jack (Bob Grant) and their bumblingly autocratic Inspector Blake (Stephen Lewis) after their sackings from their regular jobs at the bus depot.They all find work in similar positions at a holiday camp with Stan's family (Doris Hare,Anna Karen,Michael Robbins) following therewith.<br /><br />British cinema had a deserved and considerable reputation for high quality in the 1960's,but much of this was due to American financial support and guidance which sadly drew to a close as the 1970's dawned.Thereafter,notable homegrown titles (GET CARTER being the among these very few exceptions) became as rare as Mick Jagger in a stable marriage,and UK cinema went down the road of cheap budgets,sleazy and witless sex comedies (The CONFESSIONS series,COME PLAY WITH ME) and flabby,elongated celluloid versions of various TV shows,mostly sitcoms (this being one of many hideous examples).Only DAD'S ARMY and PORRIDGE came off fairly respectably in this regard;the quirky success of the first ON THE BUSES film (it was the biggest box-office hit of it's year in 1971,nonsensical to think now!) led to two further sequels.<br /><br />To be fair,the TV series itself had a cheerful,ripe,non-PC vulgarity about it which was reasonably tolerable in half-hour sitcom form,but stretched to three times that length it taxes the patience beyond belief.It's ironical that HAMMER FILMS produced this effort as it virtually resembles a horror film in the literal sense,with ancient puns,hackneyed,poorly-timed slapstick and awful,seedy production values.<br /><br />A chance to send up the cheesiness of the British holiday camp is totally wasted here in favour of the above elements,and it is most bizarre,if not gruesome,to see the obviously 50-something Varney and the beaky-nosed,long-toothed Grant managing to instantly charm young women barely in their early twenties,while constantly laughing at their own bravado and lame jokes.The presence of Wilfrid Brambell (from STEPTOE AND SON) romancing the aged Miss Hare does not help matters either,and even though the film lasts about 1 and a half hours,it drags on to an interminably depressing degree.<br /><br />Thankfully,this was the last film in this most dire of film trilogies,and the TV series itself came to an end around the same time,with a sequel (DON'T DRINK THE WATER,which was roundly savaged by the critics and ignored by audiences) following in 1975.Most of the leading actors involved were not seen much afterwards,but the worst affected was Bob Grant.Afflicted with depression and other mental problems for many years,he committed suicide in 2003.A sad coda to a sitcom that was the most popular of it's era (it has not aged too well either),and should have remained that way,rather than the three financially successful but artistically hopeless big screen hybrids which diluted the happy memories and occasional merits of it's TV counterpart.<br /><br />RATING:2 and a half out of 10.\"\n        ],\n        \"semantic_type\": \"\",\n        \"description\": \"\"\n      }\n    },\n    {\n      \"column\": \"1\",\n      \"properties\": {\n        \"dtype\": \"number\",\n        \"std\": 0,\n        \"min\": 0,\n        \"max\": 1,\n        \"num_unique_values\": 2,\n        \"samples\": [\n          1,\n          0\n        ],\n        \"semantic_type\": \"\",\n        \"description\": \"\"\n      }\n    }\n  ]\n}"
            }
          },
          "metadata": {}
        }
      ],
      "source": [
        "import pandas as pd\n",
        "\n",
        "df = pd.read_csv('/content/test_data (1).csv')\n",
        "display(df.head())"
      ]
    },
    {
      "cell_type": "code",
      "source": [
        "import pandas as pd\n",
        "\n",
        "# Load the train and test datasets\n",
        "train_df = pd.read_csv('/content/test_data (1).csv')\n",
        "test_df = pd.read_csv('/content/test_data (1).csv')"
      ],
      "metadata": {
        "id": "OAm0g5uYttt2"
      },
      "execution_count": null,
      "outputs": []
    },
    {
      "cell_type": "code",
      "source": [
        "# Rename the columns for clarity\n",
        "train_df.columns = ['review', 'label']\n",
        "test_df.columns = ['review', 'label']\n",
        "# Check the first few rows to confirm the renaming\n",
        "train_df.head()\n",
        "test_df.head()"
      ],
      "metadata": {
        "colab": {
          "base_uri": "https://localhost:8080/",
          "height": 206
        },
        "id": "-l8gszPduCmZ",
        "outputId": "21d814a4-c40c-48c9-ba29-d26cf8478774"
      },
      "execution_count": null,
      "outputs": [
        {
          "output_type": "execute_result",
          "data": {
            "text/plain": [
              "                                              review  label\n",
              "0  I did not enjoy the film Eraser whatsoever. It...      0\n",
              "1  Be very afraid of anyone who likes this film. ...      0\n",
              "2  The 3rd and last big screen spin off from the ...      0\n",
              "3  Barely three and a half years after just scrap...      1\n",
              "4  I'm a big fan of the demonic puppets. Looking ...      0"
            ],
            "text/html": [
              "\n",
              "  <div id=\"df-d5d14a0d-e6b6-4fa1-a9a5-017cd1dfd0ba\" class=\"colab-df-container\">\n",
              "    <div>\n",
              "<style scoped>\n",
              "    .dataframe tbody tr th:only-of-type {\n",
              "        vertical-align: middle;\n",
              "    }\n",
              "\n",
              "    .dataframe tbody tr th {\n",
              "        vertical-align: top;\n",
              "    }\n",
              "\n",
              "    .dataframe thead th {\n",
              "        text-align: right;\n",
              "    }\n",
              "</style>\n",
              "<table border=\"1\" class=\"dataframe\">\n",
              "  <thead>\n",
              "    <tr style=\"text-align: right;\">\n",
              "      <th></th>\n",
              "      <th>review</th>\n",
              "      <th>label</th>\n",
              "    </tr>\n",
              "  </thead>\n",
              "  <tbody>\n",
              "    <tr>\n",
              "      <th>0</th>\n",
              "      <td>I did not enjoy the film Eraser whatsoever. It...</td>\n",
              "      <td>0</td>\n",
              "    </tr>\n",
              "    <tr>\n",
              "      <th>1</th>\n",
              "      <td>Be very afraid of anyone who likes this film. ...</td>\n",
              "      <td>0</td>\n",
              "    </tr>\n",
              "    <tr>\n",
              "      <th>2</th>\n",
              "      <td>The 3rd and last big screen spin off from the ...</td>\n",
              "      <td>0</td>\n",
              "    </tr>\n",
              "    <tr>\n",
              "      <th>3</th>\n",
              "      <td>Barely three and a half years after just scrap...</td>\n",
              "      <td>1</td>\n",
              "    </tr>\n",
              "    <tr>\n",
              "      <th>4</th>\n",
              "      <td>I'm a big fan of the demonic puppets. Looking ...</td>\n",
              "      <td>0</td>\n",
              "    </tr>\n",
              "  </tbody>\n",
              "</table>\n",
              "</div>\n",
              "    <div class=\"colab-df-buttons\">\n",
              "\n",
              "  <div class=\"colab-df-container\">\n",
              "    <button class=\"colab-df-convert\" onclick=\"convertToInteractive('df-d5d14a0d-e6b6-4fa1-a9a5-017cd1dfd0ba')\"\n",
              "            title=\"Convert this dataframe to an interactive table.\"\n",
              "            style=\"display:none;\">\n",
              "\n",
              "  <svg xmlns=\"http://www.w3.org/2000/svg\" height=\"24px\" viewBox=\"0 -960 960 960\">\n",
              "    <path d=\"M120-120v-720h720v720H120Zm60-500h600v-160H180v160Zm220 220h160v-160H400v160Zm0 220h160v-160H400v160ZM180-400h160v-160H180v160Zm440 0h160v-160H620v160ZM180-180h160v-160H180v160Zm440 0h160v-160H620v160Z\"/>\n",
              "  </svg>\n",
              "    </button>\n",
              "\n",
              "  <style>\n",
              "    .colab-df-container {\n",
              "      display:flex;\n",
              "      gap: 12px;\n",
              "    }\n",
              "\n",
              "    .colab-df-convert {\n",
              "      background-color: #E8F0FE;\n",
              "      border: none;\n",
              "      border-radius: 50%;\n",
              "      cursor: pointer;\n",
              "      display: none;\n",
              "      fill: #1967D2;\n",
              "      height: 32px;\n",
              "      padding: 0 0 0 0;\n",
              "      width: 32px;\n",
              "    }\n",
              "\n",
              "    .colab-df-convert:hover {\n",
              "      background-color: #E2EBFA;\n",
              "      box-shadow: 0px 1px 2px rgba(60, 64, 67, 0.3), 0px 1px 3px 1px rgba(60, 64, 67, 0.15);\n",
              "      fill: #174EA6;\n",
              "    }\n",
              "\n",
              "    .colab-df-buttons div {\n",
              "      margin-bottom: 4px;\n",
              "    }\n",
              "\n",
              "    [theme=dark] .colab-df-convert {\n",
              "      background-color: #3B4455;\n",
              "      fill: #D2E3FC;\n",
              "    }\n",
              "\n",
              "    [theme=dark] .colab-df-convert:hover {\n",
              "      background-color: #434B5C;\n",
              "      box-shadow: 0px 1px 3px 1px rgba(0, 0, 0, 0.15);\n",
              "      filter: drop-shadow(0px 1px 2px rgba(0, 0, 0, 0.3));\n",
              "      fill: #FFFFFF;\n",
              "    }\n",
              "  </style>\n",
              "\n",
              "    <script>\n",
              "      const buttonEl =\n",
              "        document.querySelector('#df-d5d14a0d-e6b6-4fa1-a9a5-017cd1dfd0ba button.colab-df-convert');\n",
              "      buttonEl.style.display =\n",
              "        google.colab.kernel.accessAllowed ? 'block' : 'none';\n",
              "\n",
              "      async function convertToInteractive(key) {\n",
              "        const element = document.querySelector('#df-d5d14a0d-e6b6-4fa1-a9a5-017cd1dfd0ba');\n",
              "        const dataTable =\n",
              "          await google.colab.kernel.invokeFunction('convertToInteractive',\n",
              "                                                    [key], {});\n",
              "        if (!dataTable) return;\n",
              "\n",
              "        const docLinkHtml = 'Like what you see? Visit the ' +\n",
              "          '<a target=\"_blank\" href=https://colab.research.google.com/notebooks/data_table.ipynb>data table notebook</a>'\n",
              "          + ' to learn more about interactive tables.';\n",
              "        element.innerHTML = '';\n",
              "        dataTable['output_type'] = 'display_data';\n",
              "        await google.colab.output.renderOutput(dataTable, element);\n",
              "        const docLink = document.createElement('div');\n",
              "        docLink.innerHTML = docLinkHtml;\n",
              "        element.appendChild(docLink);\n",
              "      }\n",
              "    </script>\n",
              "  </div>\n",
              "\n",
              "\n",
              "    <div id=\"df-c0ca1d3d-0268-4c12-99d9-0a2999d9dd65\">\n",
              "      <button class=\"colab-df-quickchart\" onclick=\"quickchart('df-c0ca1d3d-0268-4c12-99d9-0a2999d9dd65')\"\n",
              "                title=\"Suggest charts\"\n",
              "                style=\"display:none;\">\n",
              "\n",
              "<svg xmlns=\"http://www.w3.org/2000/svg\" height=\"24px\"viewBox=\"0 0 24 24\"\n",
              "     width=\"24px\">\n",
              "    <g>\n",
              "        <path d=\"M19 3H5c-1.1 0-2 .9-2 2v14c0 1.1.9 2 2 2h14c1.1 0 2-.9 2-2V5c0-1.1-.9-2-2-2zM9 17H7v-7h2v7zm4 0h-2V7h2v10zm4 0h-2v-4h2v4z\"/>\n",
              "    </g>\n",
              "</svg>\n",
              "      </button>\n",
              "\n",
              "<style>\n",
              "  .colab-df-quickchart {\n",
              "      --bg-color: #E8F0FE;\n",
              "      --fill-color: #1967D2;\n",
              "      --hover-bg-color: #E2EBFA;\n",
              "      --hover-fill-color: #174EA6;\n",
              "      --disabled-fill-color: #AAA;\n",
              "      --disabled-bg-color: #DDD;\n",
              "  }\n",
              "\n",
              "  [theme=dark] .colab-df-quickchart {\n",
              "      --bg-color: #3B4455;\n",
              "      --fill-color: #D2E3FC;\n",
              "      --hover-bg-color: #434B5C;\n",
              "      --hover-fill-color: #FFFFFF;\n",
              "      --disabled-bg-color: #3B4455;\n",
              "      --disabled-fill-color: #666;\n",
              "  }\n",
              "\n",
              "  .colab-df-quickchart {\n",
              "    background-color: var(--bg-color);\n",
              "    border: none;\n",
              "    border-radius: 50%;\n",
              "    cursor: pointer;\n",
              "    display: none;\n",
              "    fill: var(--fill-color);\n",
              "    height: 32px;\n",
              "    padding: 0;\n",
              "    width: 32px;\n",
              "  }\n",
              "\n",
              "  .colab-df-quickchart:hover {\n",
              "    background-color: var(--hover-bg-color);\n",
              "    box-shadow: 0 1px 2px rgba(60, 64, 67, 0.3), 0 1px 3px 1px rgba(60, 64, 67, 0.15);\n",
              "    fill: var(--button-hover-fill-color);\n",
              "  }\n",
              "\n",
              "  .colab-df-quickchart-complete:disabled,\n",
              "  .colab-df-quickchart-complete:disabled:hover {\n",
              "    background-color: var(--disabled-bg-color);\n",
              "    fill: var(--disabled-fill-color);\n",
              "    box-shadow: none;\n",
              "  }\n",
              "\n",
              "  .colab-df-spinner {\n",
              "    border: 2px solid var(--fill-color);\n",
              "    border-color: transparent;\n",
              "    border-bottom-color: var(--fill-color);\n",
              "    animation:\n",
              "      spin 1s steps(1) infinite;\n",
              "  }\n",
              "\n",
              "  @keyframes spin {\n",
              "    0% {\n",
              "      border-color: transparent;\n",
              "      border-bottom-color: var(--fill-color);\n",
              "      border-left-color: var(--fill-color);\n",
              "    }\n",
              "    20% {\n",
              "      border-color: transparent;\n",
              "      border-left-color: var(--fill-color);\n",
              "      border-top-color: var(--fill-color);\n",
              "    }\n",
              "    30% {\n",
              "      border-color: transparent;\n",
              "      border-left-color: var(--fill-color);\n",
              "      border-top-color: var(--fill-color);\n",
              "      border-right-color: var(--fill-color);\n",
              "    }\n",
              "    40% {\n",
              "      border-color: transparent;\n",
              "      border-right-color: var(--fill-color);\n",
              "      border-top-color: var(--fill-color);\n",
              "    }\n",
              "    60% {\n",
              "      border-color: transparent;\n",
              "      border-right-color: var(--fill-color);\n",
              "    }\n",
              "    80% {\n",
              "      border-color: transparent;\n",
              "      border-right-color: var(--fill-color);\n",
              "      border-bottom-color: var(--fill-color);\n",
              "    }\n",
              "    90% {\n",
              "      border-color: transparent;\n",
              "      border-bottom-color: var(--fill-color);\n",
              "    }\n",
              "  }\n",
              "</style>\n",
              "\n",
              "      <script>\n",
              "        async function quickchart(key) {\n",
              "          const quickchartButtonEl =\n",
              "            document.querySelector('#' + key + ' button');\n",
              "          quickchartButtonEl.disabled = true;  // To prevent multiple clicks.\n",
              "          quickchartButtonEl.classList.add('colab-df-spinner');\n",
              "          try {\n",
              "            const charts = await google.colab.kernel.invokeFunction(\n",
              "                'suggestCharts', [key], {});\n",
              "          } catch (error) {\n",
              "            console.error('Error during call to suggestCharts:', error);\n",
              "          }\n",
              "          quickchartButtonEl.classList.remove('colab-df-spinner');\n",
              "          quickchartButtonEl.classList.add('colab-df-quickchart-complete');\n",
              "        }\n",
              "        (() => {\n",
              "          let quickchartButtonEl =\n",
              "            document.querySelector('#df-c0ca1d3d-0268-4c12-99d9-0a2999d9dd65 button');\n",
              "          quickchartButtonEl.style.display =\n",
              "            google.colab.kernel.accessAllowed ? 'block' : 'none';\n",
              "        })();\n",
              "      </script>\n",
              "    </div>\n",
              "\n",
              "    </div>\n",
              "  </div>\n"
            ],
            "application/vnd.google.colaboratory.intrinsic+json": {
              "type": "dataframe",
              "variable_name": "test_df",
              "summary": "{\n  \"name\": \"test_df\",\n  \"rows\": 25000,\n  \"fields\": [\n    {\n      \"column\": \"review\",\n      \"properties\": {\n        \"dtype\": \"string\",\n        \"num_unique_values\": 24801,\n        \"samples\": [\n          \"One of the worse gay-related movies I have ever seen. Since these are not characters in this story it's hard to comment on the actual film. Therefore, since Colton Ford (aka Glen) laid his life open for all to see, I guess he's fair game to criticize. And that's not hard to do. Here goes. 50 something Glen is a big time porn star who wants fame and fortune as a big time singer. (I guess 11 films makes him a \\\"star\\\") Being gay and forty, I have seen porno and I did not recognize him or his lover. Personally they all look the same to me with different hair styles. Face it, guys, he's no Jeff Stryker, Jim Bently or Casey Donovon. That's OK, though. The purpose of these films takes place in about 6.5 minutes, so they all pretty much have the same requirements, if you know what I mean.<br /><br />So Glen wants to be a serious (legit) singer after he dumps the porno industry but he can't get anyone to take him seriously. I wonder why? Was he so stupid to think that he could whitewash taking his clothes off and having sex on film. And according to the film it's not just porn flicks he indulges in, it's living in a house with other \\\"stars\\\" where people can hook into their bedroom, the bathroom and where ever via webcams . It's 500 dollars an hour to entertain at a private party. Strip gigs at clothing optional \\\"hotels\\\". Doing something called meth which I presume is a drug. And then you have the balls to get angry when someone at a club gig tries to touch you ---- because he's \\\"legit\\\" now. Oy!<br /><br />The only interesting, non-cardboard character is the Academy Award winning gay screen writer who wouldn't give his name. And considering this is a documentary, well, porn is as porn does. You can tell he's most amused by the dumb-bunny porn star.<br /><br />Glen has one hyper-nellie manager (Kyle) who wants to \\\"sell' him as a porno-participant in hopes of getting him gay-club gigs. He tries to do the Svengalli-routine. \\\"Wear this\\\" \\\"Don't smile\\\" \\\"say this\\\" in what amounts to controlling issues. But our anti-hero will not be controlled or told what to do. That's the first mistake. I'm not saying Kyle was right but if any budding singer starts questioning the manager, they're not going to get far. Kind of like: He who is his own lawyer has a fool for a client.<br /><br />All of this wouldn't have been bad if it weren't for one small tiny bit of information. Drum roll, please. He's bad. He sucks. His singing talent ranks up there with Ashlee Simpson. It's hard to root for someone who -- while trying make his dream come true --- at 50! --- doesn't work like normal people. No job. Can you say lazy-ass? And the whining, and the \\\"Why don't they accept me.\\\" song and dance. And after a few months of scraping the surface of the music industry, he spouts off, \\\"Why don't I have a record deal by now.\\\" What? Actors are waiters. Writers work in low-level newspapers or mags -- whatever. This guy is above that. It's true. He wants his success now merely because he decided he wanted it. Whine. Whine Whine. His lover leaves him to return to nursing but I tell ya I wouldn't want that moron dispensing medical care to me. Both of them were useless. Airheads. The movie is useless. Unless you really like Whine and Cheeesy people stay away. Do not waste your money on the crappy lives of useless people, there are far more interesting things stuck to the bottom of your shoe.\",\n          \"Now i like Johnny Vegas which is a good start, I also enjoy toilet humour<br /><br />Such as Young Ones and Bottom etc. This however failed to bring even a<br /><br />small smile to my face. The story follows Johnny around after his wife<br /><br />chucks him out (how he got his good looking wife and kid i dont know) <br /><br />as he attempts to shag anything that moves. Failing normally. I was looking forward to this but found it to be totally boring and a waste<br /><br />of my time altogether. Unless you are stuck for something to do for 90 mins apart from wash the car then dont bother..... <br /><br />\",\n          \"This derivative erotic thriller remains watchable most of the way, mainly because a viewer is casually curious about how it will turn out, and because the director, Peter Hall, manages to stage a pretty hot (and quite bold) sex scene. But the finale, though unexpected, is preposterous, and the whole plotting (complete with childhood traumas and multiple-personality disorders) reveals itself to be unbearably cliched, especially as far as motivation is concerned. (*1/2)\"\n        ],\n        \"semantic_type\": \"\",\n        \"description\": \"\"\n      }\n    },\n    {\n      \"column\": \"label\",\n      \"properties\": {\n        \"dtype\": \"number\",\n        \"std\": 0,\n        \"min\": 0,\n        \"max\": 1,\n        \"num_unique_values\": 2,\n        \"samples\": [\n          1,\n          0\n        ],\n        \"semantic_type\": \"\",\n        \"description\": \"\"\n      }\n    }\n  ]\n}"
            }
          },
          "metadata": {},
          "execution_count": 5
        }
      ]
    },
    {
      "cell_type": "code",
      "source": [
        "# Check for missing values\n",
        "print(\"\\nMissing Values in Train Data:\")\n",
        "print(train_df.isnull().sum())\n",
        "# Summary statistics for the 'text' column\n",
        "print(\"\\nSummary Statistics for Text Column:\")\n",
        "print(train_df['review'].describe())\n",
        "# Check the shape of the dataset\n",
        "print(f\"\\nTrain Data Shape: {train_df.shape}\")\n",
        "print(f\"Test Data Shape: {test_df.shape}\")"
      ],
      "metadata": {
        "colab": {
          "base_uri": "https://localhost:8080/"
        },
        "id": "ttgov85lue9P",
        "outputId": "63e7f5c3-4b95-4e37-bb83-ac3dd44d2eb3"
      },
      "execution_count": null,
      "outputs": [
        {
          "output_type": "stream",
          "name": "stdout",
          "text": [
            "\n",
            "Missing Values in Train Data:\n",
            "review    0\n",
            "label     0\n",
            "dtype: int64\n",
            "\n",
            "Summary Statistics for Text Column:\n",
            "count                                                 25000\n",
            "unique                                                24801\n",
            "top       Loved today's show!!! It was a variety and not...\n",
            "freq                                                      5\n",
            "Name: review, dtype: object\n",
            "\n",
            "Train Data Shape: (25000, 2)\n",
            "Test Data Shape: (25000, 2)\n"
          ]
        }
      ]
    },
    {
      "cell_type": "code",
      "metadata": {
        "colab": {
          "base_uri": "https://localhost:8080/"
        },
        "id": "5bb41809",
        "outputId": "9714b67e-bbe2-4446-869d-719fefccf9b7"
      },
      "source": [
        "import nltk\n",
        "nltk.download('stopwords')\n",
        "nltk.download('wordnet')"
      ],
      "execution_count": null,
      "outputs": [
        {
          "output_type": "stream",
          "name": "stderr",
          "text": [
            "[nltk_data] Downloading package stopwords to /root/nltk_data...\n",
            "[nltk_data]   Unzipping corpora/stopwords.zip.\n",
            "[nltk_data] Downloading package wordnet to /root/nltk_data...\n"
          ]
        },
        {
          "output_type": "execute_result",
          "data": {
            "text/plain": [
              "True"
            ]
          },
          "metadata": {},
          "execution_count": 9
        }
      ]
    },
    {
      "cell_type": "code",
      "source": [
        "import string\n",
        "import re\n",
        "from nltk.corpus import stopwords\n",
        "from nltk.stem import WordNetLemmatizer\n",
        "\n",
        "# Initialize NLTK components\n",
        "stop_words = set(stopwords.words('english'))\n",
        "lemmatizer = WordNetLemmatizer()\n",
        "\n",
        "def clean_text(text):\n",
        "    # Lowercase the text\n",
        "    text = text.lower()\n",
        "\n",
        "    # Remove punctuation and numbers\n",
        "    text = re.sub(r'[^\\w\\s]', '', text)\n",
        "    text = re.sub(r'\\d+', '', text)\n",
        "\n",
        "    # Tokenize and remove stopwords\n",
        "    words = text.split()\n",
        "    words = [word for word in words if word not in stop_words]\n",
        "\n",
        "    # Lemmatization\n",
        "    words = [lemmatizer.lemmatize(word) for word in words]\n",
        "\n",
        "    # Join the words back into a string\n",
        "    cleaned_review = ' '.join(words)\n",
        "\n",
        "    return cleaned_review\n",
        "\n",
        "# Apply the cleaning function to the 'text' column\n",
        "train_df['cleaned_review'] = train_df['review'].apply(clean_text)\n",
        "test_df['cleaned_review'] = test_df['review'].apply(clean_text)\n",
        "\n",
        "# Check the first few rows after cleaning\n",
        "print(\"\\nCleaned Text Sample:\")\n",
        "print(train_df[['review', 'cleaned_review']].head())"
      ],
      "metadata": {
        "colab": {
          "base_uri": "https://localhost:8080/"
        },
        "id": "DDKGuZJCu-Fw",
        "outputId": "98d7bd33-904d-4a71-e8ef-004f25524c9e"
      },
      "execution_count": null,
      "outputs": [
        {
          "output_type": "stream",
          "name": "stdout",
          "text": [
            "\n",
            "Cleaned Text Sample:\n",
            "                                              review  \\\n",
            "0  I did not enjoy the film Eraser whatsoever. It...   \n",
            "1  Be very afraid of anyone who likes this film. ...   \n",
            "2  The 3rd and last big screen spin off from the ...   \n",
            "3  Barely three and a half years after just scrap...   \n",
            "4  I'm a big fan of the demonic puppets. Looking ...   \n",
            "\n",
            "                                      cleaned_review  \n",
            "0  enjoy film eraser whatsoever awful acting bori...  \n",
            "1  afraid anyone like film probably inhaled many ...  \n",
            "2  rd last big screen spin popular itv sitcom ear...  \n",
            "3  barely three half year scraping month run oct ...  \n",
            "4  im big fan demonic puppet looking surface one ...  \n"
          ]
        }
      ]
    },
    {
      "cell_type": "code",
      "source": [
        "from sklearn.feature_extraction.text import CountVectorizer, TfidfVectorizer\n",
        "\n",
        "# Initialize vectorizers\n",
        "bow_vectorizer = CountVectorizer()\n",
        "tfidf_vectorizer = TfidfVectorizer()\n",
        "\n",
        "# Apply BoW and TF-IDF to raw review\n",
        "X_train_raw_bow = bow_vectorizer.fit_transform(train_df['review'])\n",
        "X_test_raw_bow = bow_vectorizer.transform(test_df['review'])\n",
        "\n",
        "X_train_raw_tfidf = tfidf_vectorizer.fit_transform(train_df['review'])\n",
        "X_test_raw_tfidf = tfidf_vectorizer.transform(test_df['review'])\n",
        "\n",
        "# Apply BoW and TF-IDF to cleaned review\n",
        "X_train_clean_bow = bow_vectorizer.fit_transform(train_df['cleaned_review'])\n",
        "X_test_clean_bow = bow_vectorizer.transform(test_df['cleaned_review'])\n",
        "\n",
        "X_train_clean_tfidf = tfidf_vectorizer.fit_transform(train_df['cleaned_review'])\n",
        "X_test_clean_tfidf = tfidf_vectorizer.transform(test_df['cleaned_review'])\n",
        "\n",
        "print(f\"\\nBoW Features for Raw review: {X_train_raw_bow.shape}\")\n",
        "print(f\"BoW Features for Cleaned review: {X_train_clean_bow.shape}\")\n",
        "print(f\"TF-IDF Features for Raw review: {X_train_raw_tfidf.shape}\")\n",
        "print(f\"TF-IDF Features for Cleaned review: {X_train_clean_tfidf.shape}\")"
      ],
      "metadata": {
        "colab": {
          "base_uri": "https://localhost:8080/"
        },
        "id": "EzcK_7EaxoQX",
        "outputId": "23444a32-4aff-43ed-c5ad-215f9163c2bf"
      },
      "execution_count": null,
      "outputs": [
        {
          "output_type": "stream",
          "name": "stdout",
          "text": [
            "\n",
            "BoW Features for Raw review: (25000, 73822)\n",
            "BoW Features for Cleaned review: (25000, 107136)\n",
            "TF-IDF Features for Raw review: (25000, 73822)\n",
            "TF-IDF Features for Cleaned review: (25000, 107136)\n"
          ]
        }
      ]
    },
    {
      "cell_type": "code",
      "source": [
        "from sklearn.model_selection import train_test_split\n",
        "\n",
        "# Train-test split\n",
        "X_train, X_test, y_train, y_test = train_test_split(\n",
        "    train_df['review'], train_df['label'], test_size=0.2, random_state=42, stratify=train_df['label']\n",
        ")\n",
        "\n",
        "# Check the label distribution after splitting\n",
        "print(\"\\nTrain Label Distribution:\")\n",
        "print(y_train.value_counts())\n",
        "print(\"\\nTest Label Distribution:\")\n",
        "print(y_test.value_counts())"
      ],
      "metadata": {
        "colab": {
          "base_uri": "https://localhost:8080/"
        },
        "id": "dyaCg_3fzH8H",
        "outputId": "8cf02571-4ff3-43ad-a9ee-89fe0c545a0a"
      },
      "execution_count": null,
      "outputs": [
        {
          "output_type": "stream",
          "name": "stdout",
          "text": [
            "\n",
            "Train Label Distribution:\n",
            "label\n",
            "1    10000\n",
            "0    10000\n",
            "Name: count, dtype: int64\n",
            "\n",
            "Test Label Distribution:\n",
            "label\n",
            "1    2500\n",
            "0    2500\n",
            "Name: count, dtype: int64\n"
          ]
        }
      ]
    },
    {
      "cell_type": "code",
      "source": [
        "# Verify the shapes after splitting\n",
        "print(f\"X_train shape: {X_train.shape}\")\n",
        "print(f\"y_train shape: {y_train.shape}\")\n",
        "print(f\"X_test shape: {X_test.shape}\")\n",
        "print(f\"y_test shape: {y_test.shape}\")"
      ],
      "metadata": {
        "colab": {
          "base_uri": "https://localhost:8080/"
        },
        "id": "2AnAOlVQzulx",
        "outputId": "6d0aa81f-ada2-4421-96e8-5b11e819dc29"
      },
      "execution_count": null,
      "outputs": [
        {
          "output_type": "stream",
          "name": "stdout",
          "text": [
            "X_train shape: (20000,)\n",
            "y_train shape: (20000,)\n",
            "X_test shape: (5000,)\n",
            "y_test shape: (5000,)\n"
          ]
        }
      ]
    },
    {
      "cell_type": "code",
      "source": [
        "# Apply BoW to raw text (train and test data)\n",
        "X_train_raw_bow = bow_vectorizer.fit_transform(X_train)\n",
        "X_test_raw_bow = bow_vectorizer.transform(X_test)\n",
        "\n",
        "# Check the shapes of the resulting feature matrices\n",
        "print(f\"BoW Features for X_train (Raw Text): {X_train_raw_bow.shape}\")\n",
        "print(f\"BoW Features for X_test (Raw Text): {X_test_raw_bow.shape}\")\n"
      ],
      "metadata": {
        "colab": {
          "base_uri": "https://localhost:8080/"
        },
        "id": "AF1TMX0c0CNU",
        "outputId": "c28b5d13-b5ac-49fe-8cb2-198ecdae2a63"
      },
      "execution_count": null,
      "outputs": [
        {
          "output_type": "stream",
          "name": "stdout",
          "text": [
            "BoW Features for X_train (Raw Text): (20000, 67489)\n",
            "BoW Features for X_test (Raw Text): (5000, 67489)\n"
          ]
        }
      ]
    },
    {
      "cell_type": "code",
      "source": [
        "from sklearn.naive_bayes import MultinomialNB\n",
        "from sklearn.metrics import accuracy_score\n",
        "from time import time\n",
        "\n",
        "t = time()\n",
        "duration = time() - t\n",
        "\n",
        "# Initialize Naive Bayes model\n",
        "naive_bayes_model = MultinomialNB()\n",
        "\n",
        "# Train on BoW features for raw text\n",
        "naive_bayes_model.fit(X_train_raw_bow, y_train)\n",
        "\n",
        "training_time = time() - t\n",
        "print(\"train time: %0.3fs\" % training_time)\n",
        "\n",
        "# Predict on test set\n",
        "y_pred = naive_bayes_model.predict(X_test_raw_bow)\n",
        "\n",
        "# Evaluate model\n",
        "accuracy = accuracy_score(y_test, y_pred)\n",
        "print(f\"Naive Bayes Accuracy (BoW, Raw Text): {accuracy:.4f}\")"
      ],
      "metadata": {
        "colab": {
          "base_uri": "https://localhost:8080/"
        },
        "id": "frD3dfkS1AlP",
        "outputId": "591e9cb1-0801-4444-c6af-219a22e5586b"
      },
      "execution_count": null,
      "outputs": [
        {
          "output_type": "stream",
          "name": "stdout",
          "text": [
            "train time: 0.023s\n",
            "Naive Bayes Accuracy (BoW, Raw Text): 0.8534\n"
          ]
        }
      ]
    },
    {
      "cell_type": "code",
      "source": [
        "# TF-IDF Features\n",
        "X_train_raw_tfidf = tfidf_vectorizer.fit_transform(X_train)\n",
        "X_test_raw_tfidf = tfidf_vectorizer.transform(X_test)\n",
        "\n",
        "# Train and Evaluate Naive Bayes with TF-IDF\n",
        "naive_bayes_model.fit(X_train_raw_tfidf, y_train)\n",
        "y_pred_tfidf = naive_bayes_model.predict(X_test_raw_tfidf)\n",
        "accuracy_tfidf = accuracy_score(y_test, y_pred_tfidf)\n",
        "print(f\"Naive Bayes Accuracy (TF-IDF, Raw Text): {accuracy_tfidf:.4f}\")"
      ],
      "metadata": {
        "colab": {
          "base_uri": "https://localhost:8080/"
        },
        "id": "1y4qgvOG2DQY",
        "outputId": "61033fa6-fb9e-4cc9-9422-327895c570e2"
      },
      "execution_count": null,
      "outputs": [
        {
          "output_type": "stream",
          "name": "stdout",
          "text": [
            "Naive Bayes Accuracy (TF-IDF, Raw Text): 0.8694\n"
          ]
        }
      ]
    },
    {
      "cell_type": "code",
      "source": [
        "from sklearn.metrics import classification_report\n",
        "\n",
        "print(\"\\nClassification Report (TF-IDF, Raw Text):\")\n",
        "print(classification_report(y_test, y_pred_tfidf))"
      ],
      "metadata": {
        "colab": {
          "base_uri": "https://localhost:8080/"
        },
        "id": "J_s-ZCih1fYO",
        "outputId": "8514ea3e-3544-4881-b3eb-461678efdc7f"
      },
      "execution_count": null,
      "outputs": [
        {
          "output_type": "stream",
          "name": "stdout",
          "text": [
            "\n",
            "Classification Report (TF-IDF, Raw Text):\n",
            "              precision    recall  f1-score   support\n",
            "\n",
            "           0       0.84      0.91      0.87      2500\n",
            "           1       0.90      0.83      0.86      2500\n",
            "\n",
            "    accuracy                           0.87      5000\n",
            "   macro avg       0.87      0.87      0.87      5000\n",
            "weighted avg       0.87      0.87      0.87      5000\n",
            "\n"
          ]
        }
      ]
    },
    {
      "cell_type": "code",
      "source": [
        "from sklearn.metrics import confusion_matrix, ConfusionMatrixDisplay\n",
        "import matplotlib.pyplot as plt\n",
        "\n",
        "# Generate the confusion matrix\n",
        "cm = confusion_matrix(y_test, y_pred_tfidf)\n",
        "\n",
        "# Display the confusion matrix\n",
        "disp = ConfusionMatrixDisplay(confusion_matrix=cm)\n",
        "disp.plot()\n",
        "plt.title('Confusion Matrix (TF-IDF, Raw Text)')\n",
        "plt.show()"
      ],
      "metadata": {
        "colab": {
          "base_uri": "https://localhost:8080/",
          "height": 472
        },
        "id": "1yXZ8FoF7rxd",
        "outputId": "20dde4a1-2ddd-4df6-9469-e0d41984ffbb"
      },
      "execution_count": null,
      "outputs": [
        {
          "output_type": "display_data",
          "data": {
            "text/plain": [
              "<Figure size 640x480 with 2 Axes>"
            ],
            "image/png": "[encoded data removed]"
          },
          "metadata": {}
        }
      ]
    },
    {
      "cell_type": "code",
      "metadata": {
        "colab": {
          "base_uri": "https://localhost:8080/"
        },
        "id": "cbb71e60",
        "outputId": "0ad423d1-db16-4c21-83bc-a89212d8468c"
      },
      "source": [
        "import joblib\n",
        "\n",
        "# Save the trained model to a .pkl file\n",
        "joblib.dump(naive_bayes_model, 'naive_bayes_model.pkl')\n",
        "\n",
        "print(\"Trained model saved to naive_bayes_model.pkl\")"
      ],
      "execution_count": null,
      "outputs": [
        {
          "output_type": "stream",
          "name": "stdout",
          "text": [
            "Trained model saved to naive_bayes_model.pkl\n"
          ]
        }
      ]
    },
    {
      "cell_type": "markdown",
      "metadata": {
        "id": "e2b9f493"
      },
      "source": [
        "## Load the trained model and tf-idf vectorizer\n",
        "\n"
      ]
    },
    {
      "cell_type": "markdown",
      "metadata": {
        "id": "4334026a"
      },
      "source": [
        "**Reasoning**:\n",
        "Loading the trained Naive Bayes model and the fitted TF-IDF vectorizer using joblib.\n",
        "\n"
      ]
    },
    {
      "cell_type": "code",
      "metadata": {
        "colab": {
          "base_uri": "https://localhost:8080/"
        },
        "id": "b18f0ad3",
        "outputId": "37df2c82-302c-4832-e9a9-94c964ce82f8"
      },
      "source": [
        "import joblib\n",
        "\n",
        "# Load the trained Naive Bayes model\n",
        "loaded_model = joblib.load('/content/naive_bayes_model.pkl')\n",
        "\n",
        "# Load the fitted TF-IDF vectorizer\n",
        "# Assuming the TF-IDF vectorizer was saved as 'tfidf_vectorizer.pkl' in a previous step.\n",
        "loaded_tfidf_vectorizer = joblib.load('tfidf_vectorizer.pkl')\n",
        "\n",
        "print(\"Model and vectorizer loaded successfully.\")"
      ],
      "execution_count": null,
      "outputs": [
        {
          "output_type": "stream",
          "name": "stdout",
          "text": [
            "Model and vectorizer loaded successfully.\n"
          ]
        }
      ]
    },
    {
      "cell_type": "code",
      "metadata": {
        "colab": {
          "base_uri": "https://localhost:8080/"
        },
        "id": "p1gac5JY5mnK",
        "outputId": "694810ec-c3dd-4b3d-bf11-2e0001e6fb13"
      },
      "source": [
        "# Save the fitted TF-IDF vectorizer\n",
        "joblib.dump(tfidf_vectorizer, 'tfidf_vectorizer.pkl')\n",
        "\n",
        "# Now, load the trained Naive Bayes model and the fitted TF-IDF vectorizer\n",
        "loaded_model = joblib.load('naive_bayes_model.pkl')\n",
        "loaded_tfidf_vectorizer = joblib.load('tfidf_vectorizer.pkl')\n",
        "\n",
        "print(\"Model and vectorizer saved and loaded successfully.\")"
      ],
      "execution_count": null,
      "outputs": [
        {
          "output_type": "stream",
          "name": "stdout",
          "text": [
            "Model and vectorizer saved and loaded successfully.\n"
          ]
        }
      ]
    },
    {
      "cell_type": "code",
      "metadata": {
        "colab": {
          "base_uri": "https://localhost:8080/"
        },
        "id": "f1e9304c",
        "outputId": "c7c62cb3-08ce-49d0-d07e-2c4b3d4f7c86"
      },
      "source": [
        "user_sentence = input(\"Please enter a sentence to predict its sentiment: \")"
      ],
      "execution_count": null,
      "outputs": [
        {
          "name": "stdout",
          "output_type": "stream",
          "text": [
            "Please enter a sentence to predict its sentiment: how is life\n"
          ]
        }
      ]
    },
    {
      "cell_type": "markdown",
      "metadata": {
        "id": "960ae884"
      },
      "source": [
        "**Reasoning**:\n",
        "Applying the cleaning function to the user input.\n",
        "\n"
      ]
    },
    {
      "cell_type": "code",
      "metadata": {
        "colab": {
          "base_uri": "https://localhost:8080/"
        },
        "id": "66d28fbd",
        "outputId": "4e4ce799-6815-4d40-dfd9-a18012734841"
      },
      "source": [
        "cleaned_user_sentence = clean_text(user_sentence)\n",
        "print(f\"Cleaned sentence: {cleaned_user_sentence}\")"
      ],
      "execution_count": null,
      "outputs": [
        {
          "output_type": "stream",
          "name": "stdout",
          "text": [
            "Cleaned sentence: life\n"
          ]
        }
      ]
    },
    {
      "cell_type": "markdown",
      "metadata": {
        "id": "279372a7"
      },
      "source": [
        "**Reasoning**:\n",
        "Transforming the cleaned user input into a numerical feature vector using the loaded tfidf_vectorizer.\n",
        "\n"
      ]
    },
    {
      "cell_type": "code",
      "metadata": {
        "colab": {
          "base_uri": "https://localhost:8080/"
        },
        "id": "fbb0ac46",
        "outputId": "92d267a8-35bf-4e03-d314-763f992a1e5f"
      },
      "source": [
        "# Transform the cleaned user input into a numerical feature vector\n",
        "vectorized_user_input = loaded_tfidf_vectorizer.transform([cleaned_user_sentence])\n",
        "\n",
        "# Print the shape of the vectorized input\n",
        "print(f\"Shape of vectorized user input: {vectorized_user_input.shape}\")"
      ],
      "execution_count": null,
      "outputs": [
        {
          "output_type": "stream",
          "name": "stdout",
          "text": [
            "Shape of vectorized user input: (1, 67489)\n"
          ]
        }
      ]
    },
    {
      "cell_type": "markdown",
      "metadata": {
        "id": "f5334c9a"
      },
      "source": [
        "## Predict sentiment\n",
        "\n",
        "\n",
        "\n"
      ]
    },
    {
      "cell_type": "markdown",
      "metadata": {
        "id": "78c43cf5"
      },
      "source": [
        "**Reasoning**:\n",
        "Using the loaded Naive Bayes model to predict the sentiment of the vectorized user input.\n",
        "\n"
      ]
    },
    {
      "cell_type": "code",
      "metadata": {
        "colab": {
          "base_uri": "https://localhost:8080/"
        },
        "id": "225a6b87",
        "outputId": "9fbd2087-afa0-40b2-cd5d-778f6aa24b5a"
      },
      "source": [
        "# Use the loaded model to predict the sentiment\n",
        "sentiment_prediction = loaded_model.predict(vectorized_user_input)\n",
        "\n",
        "# Print the prediction\n",
        "print(f\"Predicted sentiment (0: Negative, 1: Positive): {sentiment_prediction[0]}\")"
      ],
      "execution_count": null,
      "outputs": [
        {
          "output_type": "stream",
          "name": "stdout",
          "text": [
            "Predicted sentiment (0: Negative, 1: Positive): 1\n"
          ]
        }
      ]
    },
    {
      "cell_type": "code",
      "metadata": {
        "colab": {
          "base_uri": "https://localhost:8080/"
        },
        "id": "4244ad8e",
        "outputId": "20980dfe-4a08-445c-e904-cb5fd9ce29cc"
      },
      "source": [
        "if sentiment_prediction[0] == 0:\n",
        "    print(\"Predicted sentiment: Negative\")\n",
        "elif sentiment_prediction[0] == 1:\n",
        "    print(\"Predicted sentiment: Positive\")"
      ],
      "execution_count": null,
      "outputs": [
        {
          "output_type": "stream",
          "name": "stdout",
          "text": [
            "Predicted sentiment: Positive\n"
          ]
        }
      ]
    }
  ]
}